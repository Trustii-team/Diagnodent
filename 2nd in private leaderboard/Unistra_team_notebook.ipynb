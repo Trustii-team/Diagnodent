{
 "cells": [
  {
   "cell_type": "code",
   "execution_count": 1,
   "id": "47b770cc-7c44-470a-ba01-c8f726da4e97",
   "metadata": {
    "tags": []
   },
   "outputs": [
    {
     "name": "stdout",
     "output_type": "stream",
     "text": [
      "Looking in indexes: https://pypi.org/simple, https://pypi.ngc.nvidia.com\n",
      "Collecting opencv-python\n",
      "  Downloading opencv_python-4.8.0.74-cp37-abi3-manylinux_2_17_x86_64.manylinux2014_x86_64.whl (61.7 MB)\n",
      "\u001b[2K     \u001b[90m━━━━━━━━━━━━━━━━━━━━━━━━━━━━━━━━━━━━━━━\u001b[0m \u001b[32m61.7/61.7 MB\u001b[0m \u001b[31m143.2 MB/s\u001b[0m eta \u001b[36m0:00:00\u001b[0ma \u001b[36m0:00:01\u001b[0m\n",
      "\u001b[?25hRequirement already satisfied: numpy>=1.21.2 in /opt/conda/lib/python3.10/site-packages (from opencv-python) (1.23.5)\n",
      "Installing collected packages: opencv-python\n",
      "Successfully installed opencv-python-4.8.0.74\n"
     ]
    }
   ],
   "source": [
    "!pip install opencv-python"
   ]
  },
  {
   "cell_type": "code",
   "execution_count": 1,
   "id": "b7a800e0-9386-4247-a094-03523657b5e8",
   "metadata": {
    "tags": []
   },
   "outputs": [
    {
     "name": "stderr",
     "output_type": "stream",
     "text": [
      "2023-07-09 17:58:52.175761: I tensorflow/core/platform/cpu_feature_guard.cc:193] This TensorFlow binary is optimized with oneAPI Deep Neural Network Library (oneDNN) to use the following CPU instructions in performance-critical operations:  AVX2 FMA\n",
      "To enable them in other operations, rebuild TensorFlow with the appropriate compiler flags.\n"
     ]
    }
   ],
   "source": [
    "# import os\n",
    "# os.environ['CUDA_VISIBLE_DEVICES'] = '-1'\n",
    "import pandas as pd\n",
    "import numpy as np\n",
    "import cv2\n",
    "import tensorflow as tf"
   ]
  },
  {
   "cell_type": "code",
   "execution_count": 2,
   "id": "078d9c53-b146-4e4f-9b79-0e26585ef2bc",
   "metadata": {
    "tags": []
   },
   "outputs": [
    {
     "name": "stdout",
     "output_type": "stream",
     "text": [
      "/home/jovyan/karim\n"
     ]
    }
   ],
   "source": [
    "%cd .."
   ]
  },
  {
   "cell_type": "code",
   "execution_count": 3,
   "id": "112ffc21-8edf-4760-a743-78074e5fd4fb",
   "metadata": {
    "tags": []
   },
   "outputs": [],
   "source": [
    "test_df = pd.read_csv('../data/test.csv')\n",
    "images_df = pd.read_csv('../data/images.csv')"
   ]
  },
  {
   "cell_type": "code",
   "execution_count": 4,
   "id": "7d31005c-8c8c-4f83-93f5-439da84d3b3c",
   "metadata": {
    "tags": []
   },
   "outputs": [
    {
     "name": "stderr",
     "output_type": "stream",
     "text": [
      "2023-07-09 17:58:54.575064: I tensorflow/core/platform/cpu_feature_guard.cc:193] This TensorFlow binary is optimized with oneAPI Deep Neural Network Library (oneDNN) to use the following CPU instructions in performance-critical operations:  AVX2 FMA\n",
      "To enable them in other operations, rebuild TensorFlow with the appropriate compiler flags.\n",
      "2023-07-09 17:58:55.137099: I tensorflow/core/common_runtime/gpu/gpu_device.cc:1613] Created device /job:localhost/replica:0/task:0/device:GPU:0 with 11550 MB memory:  -> device: 0, name: Tesla K80, pci bus id: 0001:00:00.0, compute capability: 3.7\n"
     ]
    }
   ],
   "source": [
    "model_cohort = tf.keras.models.load_model('./logs/new_1/seed4_512_cohort_ep052-loss0.012-val_loss0.018-val_acc0.997-val_f1s0.998.h5',\n",
    "                                             compile = False)"
   ]
  },
  {
   "cell_type": "code",
   "execution_count": 5,
   "id": "7f82ce2f-5268-4757-8d54-7e00158ed6af",
   "metadata": {
    "tags": []
   },
   "outputs": [],
   "source": [
    "model_aitype = tf.keras.models.load_model('./logs/new_1/sig_seed4_512_aitype_ep063-loss0.014-val_loss0.225-val_acc0.828-val_f1s0.770.h5',\n",
    "                                             compile = False)"
   ]
  },
  {
   "cell_type": "code",
   "execution_count": 6,
   "id": "4c895a76-a2d6-47a8-8a6b-9601070fb563",
   "metadata": {
    "tags": []
   },
   "outputs": [],
   "source": [
    "model_isosynd_all = tf.keras.models.load_model('./logs/new_1/seed4_512_isosynd_all_ep046-loss0.026-val_loss0.195-val_acc0.955-val_f1s0.924.h5',\n",
    "                                             compile = False)"
   ]
  },
  {
   "cell_type": "code",
   "execution_count": 7,
   "id": "0f99f73b-33b5-4369-a917-acdd6901b856",
   "metadata": {
    "tags": []
   },
   "outputs": [],
   "source": [
    "model_gene = tf.keras.models.load_model('./logs/new_1/4c_seed4_512_gene_ep046-loss0.345-val_loss0.126-val_acc1.000-val_f1s1.000.h5',\n",
    "                                             compile = False)"
   ]
  },
  {
   "cell_type": "code",
   "execution_count": 8,
   "id": "515ea28b-6845-408c-9691-d3c9ec6460db",
   "metadata": {
    "tags": []
   },
   "outputs": [],
   "source": [
    "classes_cohort = ['Normal', 'Amelogenesis Imperfecta', 'Dentinogenesis Imperfecta']"
   ]
  },
  {
   "cell_type": "code",
   "execution_count": 9,
   "id": "7d02eac9-f56c-4d63-b876-f983278e3912",
   "metadata": {
    "tags": []
   },
   "outputs": [],
   "source": [
    "classes_aitype = ['AI_Hypomature',\n",
    "                 'AI_Hypoplastic',\n",
    "                 'AI_Hypocalcification/Hypomineralization',\n",
    "                 'AI_Hypomature/AI_Hypoplastic/Taurodontism']"
   ]
  },
  {
   "cell_type": "code",
   "execution_count": 10,
   "id": "6b794b7c-d0ec-434d-9f33-d6b14dd5453c",
   "metadata": {
    "tags": []
   },
   "outputs": [],
   "source": [
    "classes_isosynd_all = ['None', 'Isolated', 'Syndromic']"
   ]
  },
  {
   "cell_type": "code",
   "execution_count": 11,
   "id": "e3735a78-05de-4ae6-9586-7a5be2e01b35",
   "metadata": {
    "tags": []
   },
   "outputs": [],
   "source": [
    "classes_gene = ['AMELX', 'ENAM', 'COL17A1', 'COL7A1']"
   ]
  },
  {
   "cell_type": "code",
   "execution_count": null,
   "id": "494104ba-0929-4700-ae93-1e358417bec7",
   "metadata": {
    "tags": []
   },
   "outputs": [
    {
     "name": "stderr",
     "output_type": "stream",
     "text": [
      "2023-07-09 17:59:11.597700: I tensorflow/compiler/xla/stream_executor/cuda/cuda_dnn.cc:428] Loaded cuDNN version 8500\n",
      "2023-07-09 17:59:11.899916: W tensorflow/compiler/xla/stream_executor/gpu/asm_compiler.cc:234] Falling back to the CUDA driver for PTX compilation; ptxas does not support CC 3.7\n",
      "2023-07-09 17:59:11.899953: W tensorflow/compiler/xla/stream_executor/gpu/asm_compiler.cc:237] Used ptxas at ptxas\n",
      "2023-07-09 17:59:11.900016: W tensorflow/compiler/xla/stream_executor/gpu/redzone_allocator.cc:318] UNIMPLEMENTED: ptxas ptxas too old. Falling back to the driver to compile.\n",
      "Relying on driver to perform ptx compilation. \n",
      "Modify $PATH to customize ptxas location.\n",
      "This message will be only logged once.\n"
     ]
    }
   ],
   "source": [
    "cohort_pred = []\n",
    "ai_type_pred = []\n",
    "Responsible_Gene_Name_pred = []\n",
    "Is_Isolated_Syndromic_pred = []\n",
    "patient_id_list = test_df['Patient_ID'].tolist()\n",
    "for patient_id in patient_id_list:\n",
    "    all_imgs = images_df.loc[images_df['Patient_ID'] == patient_id]['Image_ID'].tolist()\n",
    "    # print('nb images: ', len(all_imgs))\n",
    "    preds_cohort = []\n",
    "    for img_name in all_imgs:\n",
    "        img = cv2.imread('../data/images/'+img_name)\n",
    "        img = img[:,:,0:3]\n",
    "        img = cv2.resize(img, (512,512))\n",
    "        img_p = img.astype('float32')\n",
    "        img_p = img_p/255.\n",
    "        img_p = np.expand_dims(img_p, 0)\n",
    "        preds_cohort.append(model_cohort.predict(img_p, verbose=0)[0])\n",
    "    pred_class = np.argmax(np.mean(np.array(preds_cohort), axis=0))\n",
    "    cohort_pred.append(classes_cohort[pred_class])\n",
    "    if pred_class == 0:\n",
    "        ai_type_pred.append('None')\n",
    "        Responsible_Gene_Name_pred.append('None')\n",
    "        Is_Isolated_Syndromic_pred.append('None')\n",
    "    elif pred_class == 2:\n",
    "        ai_type_pred.append('None')\n",
    "        Responsible_Gene_Name_pred.append('None')\n",
    "        Is_Isolated_Syndromic_pred.append('Isolated')\n",
    "    elif pred_class == 1:\n",
    "        preds_aitype = []\n",
    "        preds_isosynd_all = []\n",
    "        for img_name in all_imgs:\n",
    "            img = cv2.imread('../data/images/'+img_name)\n",
    "            img = img[:,:,0:3]\n",
    "            img = cv2.resize(img, (512,512))\n",
    "            img_p = img.astype('float32')\n",
    "            img_p = img_p/255.\n",
    "            img_p = np.expand_dims(img_p, 0)\n",
    "            preds_aitype.append(model_aitype.predict(img_p, verbose=0)[0])\n",
    "            preds_isosynd_all.append(model_isosynd_all.predict(img_p, verbose=0)[0])\n",
    "        pred_class_aitype = np.argmax(np.mean(np.array(preds_aitype), axis=0))\n",
    "        pred_class_isosynd_all = np.argmax(np.mean(np.array(preds_isosynd_all), axis=0))\n",
    "        ai_type_pred.append(classes_aitype[pred_class_aitype])\n",
    "        Is_Isolated_Syndromic_pred.append(classes_isosynd_all[pred_class_isosynd_all])\n",
    "        if pred_class_isosynd_all == 0:\n",
    "                Responsible_Gene_Name_pred.append('None')\n",
    "        else:\n",
    "            if pred_class_aitype == 0:\n",
    "                if pred_class_isosynd_all == 1:\n",
    "                    Responsible_Gene_Name_pred.append('MMP20')\n",
    "                elif pred_class_isosynd_all == 2:\n",
    "                    Responsible_Gene_Name_pred.append('SLC10A7')\n",
    "            elif pred_class_aitype == 1:\n",
    "                if pred_class_isosynd_all == 1:\n",
    "                    preds_gene = []\n",
    "                    for img_name in all_imgs:\n",
    "                        img = cv2.imread('../data/images/'+img_name)\n",
    "                        img = img[:,:,0:3]\n",
    "                        img = cv2.resize(img, (512,512))\n",
    "                        img_p = img.astype('float32')\n",
    "                        img_p = img_p/255.\n",
    "                        img_p = np.expand_dims(img_p, 0)\n",
    "                        preds_gene.append(model_gene.predict(img_p, verbose=0)[0])\n",
    "                    pred_class_gene = np.argmax(np.mean(np.array(preds_gene), axis=0))\n",
    "                    Responsible_Gene_Name_pred.append(classes_gene[pred_class_gene])\n",
    "                elif pred_class_isosynd_all == 2:\n",
    "                    Responsible_Gene_Name_pred.append('FAM20A')\n",
    "            elif pred_class_aitype == 2:\n",
    "                if pred_class_isosynd_all == 1:\n",
    "                    Responsible_Gene_Name_pred.append('FAM83H')\n",
    "                elif pred_class_isosynd_all == 2:\n",
    "                    Responsible_Gene_Name_pred.append('CNNM4')\n",
    "            elif pred_class_aitype == 3:\n",
    "                Responsible_Gene_Name_pred.append('DLX3')"
   ]
  },
  {
   "cell_type": "code",
   "execution_count": null,
   "id": "0a80dbf2-754a-44b3-8075-590fee65484b",
   "metadata": {
    "tags": []
   },
   "outputs": [],
   "source": [
    "test_df['Cohort'] = cohort_pred\n",
    "test_df['AI_Type'] = ai_type_pred\n",
    "test_df['Responsible_Gene_Name'] = Responsible_Gene_Name_pred\n",
    "test_df['Is_Isolated_Syndromic'] = Is_Isolated_Syndromic_pred\n",
    "\n",
    "test_df.to_csv('./submissions/new_1.csv', index=False, encoding='UTF-8')"
   ]
  },
  {
   "cell_type": "code",
   "execution_count": null,
   "id": "07d35cf1-dfc1-4c17-a98c-6f98c60aa9af",
   "metadata": {},
   "outputs": [],
   "source": []
  }
 ],
 "metadata": {
  "kernelspec": {
   "display_name": "Python 3 (ipykernel)",
   "language": "python",
   "name": "python3"
  },
  "language_info": {
   "codemirror_mode": {
    "name": "ipython",
    "version": 3
   },
   "file_extension": ".py",
   "mimetype": "text/x-python",
   "name": "python",
   "nbconvert_exporter": "python",
   "pygments_lexer": "ipython3",
   "version": "3.10.10"
  }
 },
 "nbformat": 4,
 "nbformat_minor": 5
}
